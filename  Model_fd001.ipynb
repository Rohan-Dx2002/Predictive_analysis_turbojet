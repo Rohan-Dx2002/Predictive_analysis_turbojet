{
 "cells": [
  {
   "cell_type": "code",
   "execution_count": 1,
   "id": "ff2a1fc6",
   "metadata": {},
   "outputs": [],
   "source": [
    "import pandas as pd\n",
    "import numpy as np"
   ]
  },
  {
   "cell_type": "code",
   "execution_count": 2,
   "id": "88e49d63",
   "metadata": {},
   "outputs": [],
   "source": [
    "test_1 = pd.read_csv(\"CMaps/test_FD001.txt\",sep=\" \",header=None)\n",
    "train_1 = pd.read_csv(\"CMaps/train_FD001.txt\",sep=\" \",header=None)"
   ]
  },
  {
   "cell_type": "code",
   "execution_count": 5,
   "id": "ca964ef1",
   "metadata": {},
   "outputs": [],
   "source": [
    "columns = ['engine', 'cycle', 'setting1', 'setting2', 'setting3', 'sensor1',\n",
    "       'sensor2', 'sensor3', 'sensor4', 'sensor5', 'sensor6', 'sensor7',\n",
    "       'sensor8', 'sensor9', 'sensor10', 'sensor11', 'sensor12', 'sensor13',\n",
    "       'sensor14', 'sensor15', 'sensor16', 'sensor17', 'sensor18', 'sensor19',\n",
    "       'sensor20', 'sensor21','sensor22','sensor23' ]\n",
    "test_1.columns = columns\n",
    "train_1.columns = columns"
   ]
  },
  {
   "cell_type": "code",
   "execution_count": 6,
   "id": "00fc1656",
   "metadata": {},
   "outputs": [],
   "source": [
    "train_1.drop(['sensor22','sensor23'], axis=1, inplace=True)\n",
    "\n",
    "test_1.drop(['sensor22','sensor23'], axis=1, inplace=True)"
   ]
  },
  {
   "cell_type": "code",
   "execution_count": 8,
   "id": "c803ec59",
   "metadata": {},
   "outputs": [],
   "source": [
    "from sklearn.model_selection import train_test_split\n",
    "\n",
    "from sklearn.preprocessing import MinMaxScaler\n",
    "\n",
    "scaler = MinMaxScaler()"
   ]
  },
  {
   "cell_type": "code",
   "execution_count": 12,
   "id": "82568362",
   "metadata": {},
   "outputs": [],
   "source": [
    "def Calculate_RUL(df):\n",
    "    max_cycles = df.groupby('engine')['cycle'].max()\n",
    "    merged = df.merge(max_cycles.to_frame(name='max_time_cycle'), left_on='engine',right_index=True)\n",
    "    merged[\"RUL\"] = merged[\"max_time_cycle\"] - merged['cycle']\n",
    "    merged = merged.drop(\"max_time_cycle\", axis=1)\n",
    "    return merged\n",
    "train_1 = Calculate_RUL(train_1)\n"
   ]
  },
  {
   "cell_type": "code",
   "execution_count": 13,
   "id": "b8dfdea2",
   "metadata": {},
   "outputs": [],
   "source": [
    "X1=train_1.drop(columns=['engine', 'cycle', 'setting3', 'sensor1', 'sensor5','sensor16','sensor18','sensor19' ,'RUL'])\n",
    "y1=train_1['RUL']\n",
    "X_train1,X_test1, y_train1, y_test1 = train_test_split(X1, y1, test_size=0.20, random_state=42)\n",
    "rul1=pd.read_csv(\"CMaps/RUL_FD001.txt\",header=None, names=[\"RUL\"])\n"
   ]
  },
  {
   "cell_type": "code",
   "execution_count": 14,
   "id": "113a514c",
   "metadata": {},
   "outputs": [],
   "source": [
    "scaled_train1=scaler.fit_transform(X_train1)\n",
    "scaled_test1=scaler.fit_transform(X_test1)\n",
    "\n",
    "X_valid1 = test_1.groupby('engine').last().reset_index().drop(columns=['engine', 'cycle', 'setting3', 'sensor1', 'sensor5','sensor16','sensor18','sensor19'])\n",
    "\n",
    "scaled_X_valid1=scaler.fit_transform(X_valid1)"
   ]
  },
  {
   "cell_type": "code",
   "execution_count": 15,
   "id": "217a5e2d",
   "metadata": {},
   "outputs": [],
   "source": [
    "from sklearn.decomposition import PCA\n",
    "\n",
    "# PCA for dimensionality reduction\n",
    "pca = PCA(n_components=5)\n",
    "X_pca = pca.fit_transform(scaled_X_valid1)"
   ]
  },
  {
   "cell_type": "code",
   "execution_count": null,
   "id": "e53d495b",
   "metadata": {},
   "outputs": [],
   "source": []
  }
 ],
 "metadata": {
  "kernelspec": {
   "display_name": "Python 3 (ipykernel)",
   "language": "python",
   "name": "python3"
  },
  "language_info": {
   "codemirror_mode": {
    "name": "ipython",
    "version": 3
   },
   "file_extension": ".py",
   "mimetype": "text/x-python",
   "name": "python",
   "nbconvert_exporter": "python",
   "pygments_lexer": "ipython3",
   "version": "3.11.5"
  }
 },
 "nbformat": 4,
 "nbformat_minor": 5
}
